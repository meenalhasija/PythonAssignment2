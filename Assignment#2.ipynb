{
 "cells": [
  {
   "cell_type": "code",
   "execution_count": 5,
   "metadata": {},
   "outputs": [
    {
     "name": "stdout",
     "output_type": "stream",
     "text": [
      "Enter marks of the 1st  subject: 80\n",
      "Enter marks of the 2nd subject: 64\n",
      "Enter marks of the 3rd subject: 79\n",
      "Enter marks of the 4th subject: 94\n",
      "Enter marks of the 5th subject: 99\n",
      "Your total marks are: 411\n",
      "Your Grade is: A\n"
     ]
    }
   ],
   "source": [
    "#Question no 1:  Generate mark sheet using grades:\n",
    "\n",
    "sub1=int(input(\"Enter marks of the 1st  subject: \"))\n",
    "sub2=int(input(\"Enter marks of the 2nd subject: \"))\n",
    "sub3=int(input(\"Enter marks of the 3rd subject: \"))\n",
    "sub4=int(input(\"Enter marks of the 4th subject: \"))\n",
    "sub5=int(input(\"Enter marks of the 5th subject: \"))\n",
    "total=sub1+sub2+sub3+sub4+sub4\n",
    "print(\"Your total marks are:\" , (total))\n",
    "avg=(sub1+sub2+sub3+sub4+sub4)/5\n",
    "if(avg >= 90):\n",
    "    print(\"Your Grade is: A+\")\n",
    "elif(avg >= 80 and avg < 90):\n",
    "    print(\"Your Grade is: A\")\n",
    "elif(avg >= 70 and avg < 80):\n",
    "    print(\"Your Grade is: B\")\n",
    "elif(avg >= 60 and avg < 70):\n",
    "    print(\"Your Grade is: C\")\n",
    "elif(avg >= 40 and avg < 50):\n",
    "    print(\"Your Grade is: D\")\n",
    "else:\n",
    "    print(\"Your Grade is: Fail\")"
   ]
  },
  {
   "cell_type": "code",
   "execution_count": 3,
   "metadata": {},
   "outputs": [
    {
     "name": "stdout",
     "output_type": "stream",
     "text": [
      "Enter any Integer: 23\n",
      "It's an odd Number.\n"
     ]
    }
   ],
   "source": [
    "#Question no 2 :  Check either number is odd or even.\n",
    "\n",
    "Number = int(input(\"Enter any Integer: \"))\n",
    "Mod = Number % 2\n",
    "if Mod > 0:\n",
    "    print(\"It's an odd Number.\")\n",
    "else:\n",
    "    print(\"It's an even number.\")"
   ]
  },
  {
   "cell_type": "code",
   "execution_count": 4,
   "metadata": {},
   "outputs": [
    {
     "name": "stdout",
     "output_type": "stream",
     "text": [
      "The length of list is:  6\n"
     ]
    }
   ],
   "source": [
    "#Question no3: Count the length of the list. \n",
    "\n",
    "list = [23, 28, 43, 51, 2, 3] \n",
    "print(\"The length of list is: \", len(list)) "
   ]
  },
  {
   "cell_type": "code",
   "execution_count": 10,
   "metadata": {},
   "outputs": [
    {
     "name": "stdout",
     "output_type": "stream",
     "text": [
      "Total Sum of list:  150\n"
     ]
    }
   ],
   "source": [
    "#Question no 4: Sum of all the integers in the list.\n",
    "\n",
    "sum = 0\n",
    "list = [23, 28, 51, 43, 3, 2]\n",
    "for x in range(0, len(list)): \n",
    "    sum = sum + list[x]  \n",
    "print(\"Total Sum of list: \", sum) "
   ]
  },
  {
   "cell_type": "code",
   "execution_count": 11,
   "metadata": {},
   "outputs": [
    {
     "name": "stdout",
     "output_type": "stream",
     "text": [
      "51\n"
     ]
    }
   ],
   "source": [
    "#Question no 5: Largest number among all the numbers in the list. \n",
    "\n",
    "List=[ 23, 43, 51, 28, 3, 2]\n",
    "print(max(List))"
   ]
  },
  {
   "cell_type": "code",
   "execution_count": 21,
   "metadata": {},
   "outputs": [
    {
     "name": "stdout",
     "output_type": "stream",
     "text": [
      "[1, 1, 2, 3]\n"
     ]
    }
   ],
   "source": [
    "#Question no 6 : Print the numbers less than 5 in the list. \n",
    "\n",
    "a = [1, 1, 2, 3, 5, 8, 13, 21, 34, 55, 89]\n",
    "new_list = []\n",
    "for i in a:\n",
    "    if i < 5:\n",
    "         new_list.append(i)\n",
    "print (new_list)"
   ]
  },
  {
   "cell_type": "code",
   "execution_count": null,
   "metadata": {},
   "outputs": [],
   "source": []
  },
  {
   "cell_type": "code",
   "execution_count": null,
   "metadata": {},
   "outputs": [],
   "source": []
  }
 ],
 "metadata": {
  "kernelspec": {
   "display_name": "Python 3",
   "language": "python",
   "name": "python3"
  },
  "language_info": {
   "codemirror_mode": {
    "name": "ipython",
    "version": 3
   },
   "file_extension": ".py",
   "mimetype": "text/x-python",
   "name": "python",
   "nbconvert_exporter": "python",
   "pygments_lexer": "ipython3",
   "version": "3.7.4"
  }
 },
 "nbformat": 4,
 "nbformat_minor": 2
}
